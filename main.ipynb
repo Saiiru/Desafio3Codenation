{
 "cells": [
  {
   "cell_type": "markdown",
   "metadata": {},
   "source": [
    "# Importando e criando DataFrame(df)"
   ]
  },
  {
   "cell_type": "code",
   "execution_count": 31,
   "metadata": {},
   "outputs": [],
   "source": [
    "import pandas as pd\n",
    "import numpy as numpy\n",
    "import seaborn as sns\n",
    "import json"
   ]
  },
  {
   "cell_type": "code",
   "execution_count": 32,
   "metadata": {},
   "outputs": [],
   "source": [
    "df = pd.read_csv(\"desafio1.csv\")"
   ]
  },
  {
   "cell_type": "markdown",
   "metadata": {},
   "source": [
    "# Abrindo .json"
   ]
  },
  {
   "cell_type": "code",
   "execution_count": 33,
   "metadata": {},
   "outputs": [],
   "source": [
    "with open(r\"submission.json\",\"r+\") as json_file:\n",
    "    data = json.load(json_file)"
   ]
  },
  {
   "cell_type": "markdown",
   "metadata": {},
   "source": [
    "# média da pontuação de crédito para cada estado"
   ]
  },
  {
   "cell_type": "code",
   "execution_count": 34,
   "metadata": {},
   "outputs": [],
   "source": [
    "\n",
    "media = df.groupby('estado_residencia')['pontuacao_credito'].mean().reset_index()\n",
    "\n",
    "for x in mediana.index:\n",
    "    estado = media['estado_residencia'][x]\n",
    "    pontuacao  = media['pontuacao_credito'][x]\n",
    "    data[estado]['media']=pontuacao"
   ]
  },
  {
   "cell_type": "markdown",
   "metadata": {},
   "source": [
    "## mediana da pontuação de crédito para cada estado"
   ]
  },
  {
   "cell_type": "code",
   "execution_count": 35,
   "metadata": {},
   "outputs": [],
   "source": [
    "mediana = df.groupby('estado_residencia')['pontuacao_credito'].median().reset_index()\n",
    "\n",
    "for x in mediana.index:\n",
    "    estado = mediana['estado_residencia'][x]\n",
    "    pontuacao  = mediana['pontuacao_credito'][x]\n",
    "    data[estado]['mediana']=pontuacao\n",
    "\n"
   ]
  },
  {
   "cell_type": "markdown",
   "metadata": {},
   "source": [
    "# moda da pontuação de crédito para cada estado"
   ]
  },
  {
   "cell_type": "code",
   "execution_count": 36,
   "metadata": {},
   "outputs": [],
   "source": [
    "moda = df.groupby('estado_residencia')['pontuacao_credito'].agg(pd.Series.mode).reset_index()\n",
    "\n",
    "for x in mediana.index:\n",
    "    estado = moda['estado_residencia'][x]\n",
    "    pontuacao  = moda['pontuacao_credito'][x]\n",
    "    data[estado]['moda']=pontuacao\n",
    "\n"
   ]
  },
  {
   "cell_type": "markdown",
   "metadata": {},
   "source": [
    "# Desvio Padrão da pontuação de crédito para cada estado"
   ]
  },
  {
   "cell_type": "code",
   "execution_count": 37,
   "metadata": {},
   "outputs": [],
   "source": [
    "desvio = df.groupby('estado_residencia')['pontuacao_credito'].std().reset_index()\n",
    "\n",
    "for x in desvio.index:\n",
    "    estado = desvio['estado_residencia'][x]\n",
    "    pontuacao  = desvio['pontuacao_credito'][x]\n",
    "    data[estado]['desvio_padrao']=pontuacao\n",
    "\n"
   ]
  },
  {
   "cell_type": "markdown",
   "metadata": {},
   "source": [
    "## Arquivo Final- Resposta"
   ]
  },
  {
   "cell_type": "code",
   "execution_count": 38,
   "metadata": {},
   "outputs": [],
   "source": [
    "class NumpyEncoder(json.JSONEncoder):\n",
    "    \"\"\" Special json encoder for numpy types \"\"\"\n",
    "    def default(self, obj):\n",
    "        if isinstance(obj, (numpy.int_, numpy.intc, numpy.intp, numpy.int8,\n",
    "                            numpy.int16, numpy.int32, numpy.int64, numpy.uint8,\n",
    "                            numpy.uint16, numpy.uint32, numpy.uint64)):\n",
    "            return int(obj)\n",
    "        elif isinstance(obj, (numpy.float_, numpy.float16, numpy.float32,\n",
    "                              numpy.float64)):\n",
    "            return float(obj)\n",
    "        elif isinstance(obj, (numpy.ndarray,)):\n",
    "            return obj.tolist()\n",
    "        return json.JSONEncoder.default(self, obj)\n",
    "    \n",
    "data = json.dumps(data,cls=NumpyEncoder)\n",
    "\n",
    "\n",
    "with open(r\"submission.json\",\"w+\") as json_file:\n",
    "    json.dump(json.loads(data),json_file,indent=0)"
   ]
  },
  {
   "cell_type": "code",
   "execution_count": null,
   "metadata": {},
   "outputs": [],
   "source": [
    "\n",
    "\n",
    "\n"
   ]
  }
 ],
 "metadata": {
  "kernelspec": {
   "display_name": "Python 3",
   "language": "python",
   "name": "python3"
  },
  "language_info": {
   "codemirror_mode": {
    "name": "ipython",
    "version": 3
   },
   "file_extension": ".py",
   "mimetype": "text/x-python",
   "name": "python",
   "nbconvert_exporter": "python",
   "pygments_lexer": "ipython3",
   "version": "3.7.7"
  }
 },
 "nbformat": 4,
 "nbformat_minor": 4
}
